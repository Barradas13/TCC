#reading dataImobiliario
import pandas as pd

df_train = pd.read_csv('dataImobiliario/train.csv')
df_test = pd.read_csv('dataImobiliario/test.csv')



#dividing dataImobiliario
from sklearn.model_selection import train_test_split


measure_features = ["LotFrontage", "LotArea", "OverallQual", "OverallCond", "YearBuilt", "YearRemodAdd", "MasVnrArea", "BsmtFinSF1", "BsmtFinSF2", "BsmtUnfSF", "TotalBsmtSF", "1stFlrSF", "2ndFlrSF", "LowQualFinSF", "GrLivArea", "BsmtFullBath", "BsmtHalfBath", "FullBath", "HalfBath", "BedroomAbvGr", "KitchenAbvGr", "TotRmsAbvGrd", "Fireplaces", "GarageYrBlt", "GarageCars", "GarageArea", "WoodDeckSF", "OpenPorchSF", "EnclosedPorch", "3SsnPorch", "ScreenPorch", "PoolArea", "MiscVal"]

X = df_train[measure_features]
y = df_train["SalePrice"]

X_train, X_test, y_train, y_test = train_test_split(X, y, random_state=1)


from sklearn.metrics import mean_absolute_error
def get_mae(n_estimators, max_depth, X_train, y_train, X_test, y_test):
    model = RandomForestRegressor(n_estimators=n_estimators, max_depth=max_depth, random_state=1)
    model.fit(X_train, y_train)
    preds = model.predict(X_test)
    mae = mean_absolute_error(y_test, preds)
    return mae


#define model and fitting
from sklearn.ensemble import RandomForestRegressor

rf_model = RandomForestRegressor(1)
rf_model.fit(X_train, y_train)

estimators = [5, 50, 100, 250, 500, 1000]
max_depths = [5, 10, 25, 50, 100, 200]

best_estimator_depth = [[0,0], float("inf")]

for i in estimators:
    for j in max_depths:
        mae = get_mae(i, j, X_train, y_train, X_test, y_test)
        if mae < best_estimator_depth[1]:
            best_estimator_depth[0] = [i, j]
            best_estimator_depth[1] = mae

print(best_estimator_depth)


#training the best model with all dataImobiliario

model = RandomForestRegressor(n_estimators=best_estimator_depth[0][0], max_depth=best_estimator_depth[0][1], random_state=1)
model.fit(X, y)



#predicting the dataImobiliario

X_test = df_test[measure_features]
df_test["SalePrice"] = model.predict(X_test)

df_test["Id", "SalePrice"].to_csv("dataImobiliario/submission.csv", index=False)




