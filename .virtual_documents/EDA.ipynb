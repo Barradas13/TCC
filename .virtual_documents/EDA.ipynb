import pandas as pd
import numpy as np
import matplotlib.pyplot as plt
import seaborn as sns


df = pd.read_csv("dataImobiliario/train.csv")


df.columns


df.info()

#Note that there are some null lines


df.shape


df.ndim


df.head()


df.describe()

#we only get number values so we can't analyse every column


print(df.Street.unique())
print(df.Neighborhood.unique())
print(df.BldgType.unique())


sns.displot(df["LotArea"], bins=5)



