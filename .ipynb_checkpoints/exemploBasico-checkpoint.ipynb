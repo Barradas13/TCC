{
 "cells": [
  {
   "cell_type": "code",
   "id": "initial_id",
   "metadata": {
    "collapsed": true
   },
   "source": [
    "#reading dataImobiliario\n",
    "import pandas as pd\n",
    "\n",
    "df_train = pd.read_csv('dataImobiliario/train.csv')\n",
    "df_test = pd.read_csv('dataImobiliario/test.csv')\n"
   ],
   "outputs": [],
   "execution_count": null
  },
  {
   "metadata": {},
   "cell_type": "code",
   "source": [
    "#dividing dataImobiliario\n",
    "from sklearn.model_selection import train_test_split\n",
    "\n",
    "\n",
    "measure_features = [\"LotFrontage\", \"LotArea\", \"OverallQual\", \"OverallCond\", \"YearBuilt\", \"YearRemodAdd\", \"MasVnrArea\", \"BsmtFinSF1\", \"BsmtFinSF2\", \"BsmtUnfSF\", \"TotalBsmtSF\", \"1stFlrSF\", \"2ndFlrSF\", \"LowQualFinSF\", \"GrLivArea\", \"BsmtFullBath\", \"BsmtHalfBath\", \"FullBath\", \"HalfBath\", \"BedroomAbvGr\", \"KitchenAbvGr\", \"TotRmsAbvGrd\", \"Fireplaces\", \"GarageYrBlt\", \"GarageCars\", \"GarageArea\", \"WoodDeckSF\", \"OpenPorchSF\", \"EnclosedPorch\", \"3SsnPorch\", \"ScreenPorch\", \"PoolArea\", \"MiscVal\"]\n",
    "\n",
    "X = df_train[measure_features]\n",
    "y = df_train[\"SalePrice\"]\n",
    "\n",
    "X_train, X_test, y_train, y_test = train_test_split(X, y, random_state=1)"
   ],
   "id": "43012abb5a492aff",
   "outputs": [],
   "execution_count": null
  },
  {
   "metadata": {},
   "cell_type": "code",
   "source": [
    "from sklearn.metrics import mean_absolute_error\n",
    "def get_mae(n_estimators, max_depth, X_train, y_train, X_test, y_test):\n",
    "    model = RandomForestRegressor(n_estimators=n_estimators, max_depth=max_depth, random_state=1)\n",
    "    model.fit(X_train, y_train)\n",
    "    preds = model.predict(X_test)\n",
    "    mae = mean_absolute_error(y_test, preds)\n",
    "    return mae"
   ],
   "id": "1e036bc1178cc37d",
   "outputs": [],
   "execution_count": null
  },
  {
   "metadata": {},
   "cell_type": "code",
   "source": [
    "#define model and fitting\n",
    "from sklearn.ensemble import RandomForestRegressor\n",
    "\n",
    "rf_model = RandomForestRegressor(1)\n",
    "rf_model.fit(X_train, y_train)\n",
    "\n",
    "estimators = [5, 50, 100, 250, 500, 1000]\n",
    "max_depths = [5, 10, 25, 50, 100, 200]\n",
    "\n",
    "best_estimator_depth = [[0,0], float(\"inf\")]\n",
    "\n",
    "for i in estimators:\n",
    "    for j in max_depths:\n",
    "        mae = get_mae(i, j, X_train, y_train, X_test, y_test)\n",
    "        if mae < best_estimator_depth[1]:\n",
    "            best_estimator_depth[0] = [i, j]\n",
    "            best_estimator_depth[1] = mae\n",
    "\n",
    "print(best_estimator_depth)"
   ],
   "id": "d662cd607ac985a6",
   "outputs": [],
   "execution_count": null
  },
  {
   "metadata": {},
   "cell_type": "code",
   "source": [
    "#training the best model with all dataImobiliario\n",
    "\n",
    "model = RandomForestRegressor(n_estimators=best_estimator_depth[0][0], max_depth=best_estimator_depth[0][1], random_state=1)\n",
    "model.fit(X, y)\n"
   ],
   "id": "a2e6bcdc131e9fce",
   "outputs": [],
   "execution_count": null
  },
  {
   "metadata": {},
   "cell_type": "code",
   "source": [
    "#predicting the dataImobiliario\n",
    "\n",
    "X_test = df_test[measure_features]\n",
    "df_test[\"SalePrice\"] = model.predict(X_test)\n",
    "\n",
    "df_test[\"Id\", \"SalePrice\"].to_csv(\"dataImobiliario/submission.csv\", index=False)\n"
   ],
   "id": "d714875c0df6f971",
   "outputs": [],
   "execution_count": null
  },
  {
   "metadata": {},
   "cell_type": "code",
   "source": "",
   "id": "ad6f7de43c207f47",
   "outputs": [],
   "execution_count": null
  }
 ],
 "metadata": {
  "kernelspec": {
   "display_name": "Python 3",
   "language": "python",
   "name": "python3"
  },
  "language_info": {
   "codemirror_mode": {
    "name": "ipython",
    "version": 2
   },
   "file_extension": ".py",
   "mimetype": "text/x-python",
   "name": "python",
   "nbconvert_exporter": "python",
   "pygments_lexer": "ipython2",
   "version": "2.7.6"
  }
 },
 "nbformat": 4,
 "nbformat_minor": 5
}
